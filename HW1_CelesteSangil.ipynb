{
 "cells": [
  {
   "cell_type": "markdown",
   "metadata": {},
   "source": [
    "# SYD DAT 7 Homework - Git, Markdown and Pandas\n",
    "\n",
    "## Homework: due Feb 20th 2017\n",
    "\n",
    "#### Setup\n",
    "* Create a repository\n",
    "* Copy this Homework1.ipynb file into your new repository\n",
    "\n",
    "#### Communication\n",
    "* Read about some [Markdown Techniques](http://daringfireball.net/projects/markdown/syntax)\n",
    "* Write a summary of a chapter of [The Data Science Handbook](http://www.thedatasciencehandbook.com/) in Markdown\n",
    "\n",
    "#### Programming\n",
    "* Complete the lab from class and the additional Exercise below\n",
    "\n",
    "#### Course Project\n",
    "* Come up with 5 different ideas for your course project. For each one list:\n",
    "  * Overview of your idea\n",
    "  * What data you will use, and how you will collect it\n",
    "  * What the outcome is that you are trying to achieve\n",
    "  * Any ideas of modelling techniques it may involve\n",
    "\n",
    "\n",
    "#### How to submit\n",
    "  * Send a message on Slack to Greg and Amanda to tell us the name of the repository you created and the\n",
    "  filename of the jupyter notebook where you've done your work\n"
   ]
  },
  {
   "cell_type": "markdown",
   "metadata": {},
   "source": [
    "## Weather\n",
    "\n",
    "The Bureau of Meteorology keeps long-term data about rainfall, temperatures and so on. You generate a query,\n",
    "and then you can fetch that same data again for a while before the data is expired.\n",
    "\n",
    "* Go to http://www.bom.gov.au/climate/data\n",
    "* There's a pull down for \"Data about\": choose \"Rainfall\"\n",
    "* Select a weather station: choose Sydney\n",
    "* It will then come up with a list of matching towns: choose Sydney, NSW (the first one in the list)\n",
    "* It will then give a list of the nearest weather stations.\n",
    "* Choose 066062 Sydney Observatory\n",
    "* Select the year 2016\n",
    "* Click on the \"Get Data\" button.\n",
    "* That next page you get will have a URL very similar to this:\n",
    "http://www.bom.gov.au/jsp/ncc/cdio/weatherData/av?p_nccObsCode=136&p_display_type=dailyDataFile&p_startYear=2016&p_c=-872836455&p_stn_num=066062"
   ]
  },
  {
   "cell_type": "code",
   "execution_count": null,
   "metadata": {
    "collapsed": true
   },
   "outputs": [],
   "source": [
    "# Use pandas to read the rainfall table from the web (as described in the previous cell). \n",
    "# Ignore the summary statistics.\n",
    "# Select the 'Monthly Total' row and sum it to get a yearly rainfall\n",
    "# (Optional) Create a function that returns the yearly rainfall for a given year. Plot rainfall over time"
   ]
  },
  {
   "cell_type": "markdown",
   "metadata": {},
   "source": [
    "# Solution Section \n",
    "\n",
    "--------------------------------"
   ]
  },
  {
   "cell_type": "markdown",
   "metadata": {
    "collapsed": true
   },
   "source": [
    "## Part 1: Data Science Handbook Summary\n",
    "\n",
    "The Data Science Handbook is a transcription of interviews with 25 Data Scientists based in USA. It is not a technical guide on how to become a Data Scientist, but rather a\n",
    "book showcasing the life stories of these 25 Data Scientists, how they stumbled into data-centric opportunities, \n",
    "what they did about them and their words of wisdom for those who aspire to be Data Scientists. \n",
    "\n",
    "My two favourite sections are those of :\n",
    "*    *Riley Newman, Head of Data at AirBnB* (Chapter 5: \"Data is the Voice of Your Customer\"); and \n",
    "*    *Joe Blitzstein, Prof of Statistics in Harvard University *(Chapter 15: \"Teaching Data Science and Story Telling\").\n",
    "\n",
    "In particular, I like how [Newman](http://nerds.airbnb.com/author/riley-newman/) used the phrase \"Democratisation of Data\", a scenario where people in the organisation\n",
    "are trained enough to source the data that they need to guide their day-to-day work function, so that the highly-skilled data people (e.g. data scientists) can focus on real data problems that require deep analysis and iterative modelling. This is manifested by the fact that all employees of AirBnB are able to write SQL queries.\n",
    "\n",
    "As for [Blitzstein](http://www.people.fas.harvard.edu/~blitz/Site/Home.html), I like how he emphasizes the importance of three things:\n",
    "*   Communication and Story-telling: Where he emphasizes that, for one's presentation to matter, setting the context is very important before jumping to the smaller details. It is important to not make any assumptions that one's audience knows anything about the project is or why it is important.\n",
    "*   Learning and Teaching a New Concept goes together: By being able to articulate a new concept and teach someone about it is the best way to motivate yourself to learn as much as possible about the topic, so you can convey the \"teachings\" in a manner that you'd like to receive it if you're the student.\n",
    "*   Not being discouraged that you don't know everything - and what matters is someone's eagerness to keep learning new things to become a succesful Data Scientist.\n",
    "\n",
    "In conclusion, this book has a rich source of life stories of people who eventually became Data Scientists, the opportunities that led them to this career path and how they dealt with specific situations that life presented to them. No two stories are similar so we don't have to try and copy exactly what these guys did given the differences in economic and political settings between the USA and Australia, but it's up to us to take away their most important life lessons, learn from them and apply them the best way we can for us to reach our fullest life potential, whether or not it's in the field of Data Science, our story is yet to be written. \n",
    "\n",
    "----------------------------------"
   ]
  },
  {
   "cell_type": "markdown",
   "metadata": {
    "collapsed": true
   },
   "source": [
    "## Part 2: The BOM / Rainfall Exercise"
   ]
  },
  {
   "cell_type": "code",
   "execution_count": 2,
   "metadata": {
    "collapsed": false
   },
   "outputs": [
    {
     "data": {
      "text/plain": [
       "[                 Jan   Feb    Mar    Apr  May    Jun    Jul    Aug   Sep  \\\n",
       " 2016                                                                       \n",
       " Graph            NaN   NaN    NaN    NaN  NaN    NaN    NaN    NaN   NaN   \n",
       " 1st              0.0   0.2    0.0    0.0  2.8   29.4    0.0    0.0   0.0   \n",
       " 2nd              0.0   2.0    0.0    0.0  0.0    1.0    0.0    0.4  14.4   \n",
       " 3rd              0.0   0.0    0.0    0.0  0.0    0.2    0.0   24.8  23.4   \n",
       " 4th             15.0  10.8    0.0   94.4  0.0   64.4    0.0   61.0   0.0   \n",
       " 5th             34.2   3.6    0.0    6.4  0.0   93.8    4.8    4.0   0.0   \n",
       " 6th             51.4   1.8    0.0    0.0  0.0   68.4    0.2    1.8   0.0   \n",
       " 7th             41.4   0.0    0.0    0.2  0.0    0.0   29.4    0.6   0.0   \n",
       " 8th              0.4   0.0    0.0    0.0  0.0    0.0   22.4    0.0   0.0   \n",
       " 9th              0.0   0.0    0.0    0.4  1.6    0.2    2.2    0.0   0.0   \n",
       " 10th             0.0   0.2    0.0    0.0  0.0    0.2    1.0    0.0   1.2   \n",
       " 11th             0.0   0.0    0.0    0.0  0.0    0.0    0.0    0.0   0.0   \n",
       " 12th             0.0   0.0    0.0    8.2  0.0    0.0    0.2    0.0   0.0   \n",
       " 13th             0.0   0.0    0.0    0.6  0.0    0.0    0.0    0.0   0.0   \n",
       " 14th             0.0   0.0    0.0    0.6  0.0    0.0    0.0    0.0   5.8   \n",
       " 15th            34.0   0.0   16.8    1.0  0.0    0.0    0.0    0.0   0.0   \n",
       " 16th             5.4   0.0   23.0    0.0  0.0    0.0    0.0    0.0   0.0   \n",
       " 17th             0.0   0.0   13.6    0.0  0.0    0.0    0.8    0.0   0.0   \n",
       " 18th             0.0   0.0    3.4    2.0  0.0    5.0    0.0    0.0   0.0   \n",
       " 19th             0.0   0.0    4.8   15.0  0.0    0.4    0.2    0.0  13.4   \n",
       " 20th             0.0   0.0    0.2   15.8  0.0   38.8   17.0    0.4   0.0   \n",
       " 21st             0.0   6.0   61.2    0.0  0.0    0.0   20.4    0.0   0.0   \n",
       " 22nd            30.6   1.2   25.4    0.0  0.0    0.0    0.0    0.0   2.0   \n",
       " 23rd            13.0   0.0    1.6    6.6  0.0    0.0    6.0    1.8   0.6   \n",
       " 24th             0.0   0.0    0.0    3.8  0.0    0.0    0.0    2.4   0.0   \n",
       " 25th             0.0   0.0    0.0    0.0  0.0    0.6    0.0   52.8   3.4   \n",
       " 26th             0.0   0.0    0.0    0.0  0.2    0.0    0.0    0.0   4.0   \n",
       " 27th             2.2   0.0    0.2    0.0  0.2    0.0    0.0    1.4   0.0   \n",
       " 28th             0.4   0.0   34.8    0.0  0.0    2.4    0.0    0.0   0.0   \n",
       " 29th             0.0   0.0    0.0    0.0  2.2    0.2    0.0    0.0   1.4   \n",
       " 30th             9.0   NaN    7.0    0.0  0.2    0.0    0.0    0.0   0.4   \n",
       " 31st            12.8   NaN    1.2    NaN  0.0    NaN    0.0    0.0   NaN   \n",
       " Highest Daily   51.4  10.8   61.2   94.4  2.8   93.8   29.4   61.0  23.4   \n",
       " Monthly Total  249.8  25.8  193.2  155.0  7.2  305.0  104.6  151.4  70.0   \n",
       " \n",
       "                 Oct   Nov   Dec  \n",
       " 2016                             \n",
       " Graph           NaN   NaN   NaN  \n",
       " 1st             0.0   0.0   0.0  \n",
       " 2nd             0.0   0.0   0.2  \n",
       " 3rd             0.0   0.0   0.0  \n",
       " 4th             0.0   0.0   0.0  \n",
       " 5th             0.0   0.0   0.4  \n",
       " 6th             0.0   0.0   3.2  \n",
       " 7th             0.0   0.0   7.8  \n",
       " 8th             0.2   0.0   0.2  \n",
       " 9th             0.0   2.0   0.4  \n",
       " 10th            0.0  10.2   0.0  \n",
       " 11th            3.8   0.0   0.0  \n",
       " 12th            0.0   9.0   0.0  \n",
       " 13th            4.4   0.0   0.0  \n",
       " 14th            0.2   0.0   0.0  \n",
       " 15th            0.0   0.6   8.2  \n",
       " 16th            0.0   0.0  32.6  \n",
       " 17th            0.0   0.0  10.4  \n",
       " 18th            3.0   0.0   0.0  \n",
       " 19th            0.2   0.0   0.0  \n",
       " 20th            0.0   0.0   0.0  \n",
       " 21st            0.0   0.0   0.0  \n",
       " 22nd           11.8   0.0   0.0  \n",
       " 23rd            0.6   0.0   0.0  \n",
       " 24th            0.8   5.4   0.0  \n",
       " 25th            0.0   0.0   1.6  \n",
       " 26th            0.0   0.0   0.0  \n",
       " 27th            0.0   0.0   0.0  \n",
       " 28th            1.4   0.0   0.0  \n",
       " 29th            3.2   0.0   0.0  \n",
       " 30th            0.2   0.0   0.0  \n",
       " 31st            1.6   NaN   0.0  \n",
       " Highest Daily  11.8  10.2  32.6  \n",
       " Monthly Total  31.4  27.2  65.0  ,\n",
       "                           Jan            Feb             Mar             Apr  \\\n",
       " Statistic                                                                      \n",
       " Mean                    102.2          117.0           129.6           128.8   \n",
       " Median                   79.8           92.3            99.1            98.8   \n",
       " Highest Daily  191.017th 1988  243.63rd 1990  280.728th 1942  191.029th 1860   \n",
       " \n",
       "                           May             Jun            Jul            Aug  \\\n",
       " Statistic                                                                     \n",
       " Mean                    119.2           133.0           97.1           81.1   \n",
       " Median                   90.8           101.8           74.3           54.9   \n",
       " Highest Daily  212.328th 1889  150.611th 1991  198.17th 1931  327.66th 1986   \n",
       " \n",
       "                           Sep             Oct            Nov            Dec  \n",
       " Statistic                                                                    \n",
       " Mean                     68.4            76.4           83.8           77.6  \n",
       " Median                   52.5            55.4           66.9           59.7  \n",
       " Highest Daily  144.510th 1879  161.813th 1902  234.69th 1984  126.09th 1970  ]"
      ]
     },
     "execution_count": 2,
     "metadata": {},
     "output_type": "execute_result"
    }
   ],
   "source": [
    "import pandas\n",
    "rainfall_table=pandas.read_html('http://www.bom.gov.au/jsp/ncc/cdio/weatherData/av?p_nccObsCode=136&p_display_type=dailyDataFile&p_startYear=2016&p_c=-872838178&p_stn_num=066062',header=0,index_col=0)\n",
    "rainfall_table"
   ]
  },
  {
   "cell_type": "code",
   "execution_count": 24,
   "metadata": {
    "collapsed": false
   },
   "outputs": [
    {
     "data": {
      "text/html": [
       "<div>\n",
       "<table border=\"1\" class=\"dataframe\">\n",
       "  <thead>\n",
       "    <tr style=\"text-align: right;\">\n",
       "      <th></th>\n",
       "      <th>Jan</th>\n",
       "      <th>Feb</th>\n",
       "      <th>Mar</th>\n",
       "      <th>Apr</th>\n",
       "      <th>May</th>\n",
       "      <th>Jun</th>\n",
       "      <th>Jul</th>\n",
       "      <th>Aug</th>\n",
       "      <th>Sep</th>\n",
       "      <th>Oct</th>\n",
       "      <th>Nov</th>\n",
       "      <th>Dec</th>\n",
       "    </tr>\n",
       "    <tr>\n",
       "      <th>2016</th>\n",
       "      <th></th>\n",
       "      <th></th>\n",
       "      <th></th>\n",
       "      <th></th>\n",
       "      <th></th>\n",
       "      <th></th>\n",
       "      <th></th>\n",
       "      <th></th>\n",
       "      <th></th>\n",
       "      <th></th>\n",
       "      <th></th>\n",
       "      <th></th>\n",
       "    </tr>\n",
       "  </thead>\n",
       "  <tbody>\n",
       "    <tr>\n",
       "      <th>Monthly Total</th>\n",
       "      <td>249.8</td>\n",
       "      <td>25.8</td>\n",
       "      <td>193.2</td>\n",
       "      <td>155.0</td>\n",
       "      <td>7.2</td>\n",
       "      <td>305.0</td>\n",
       "      <td>104.6</td>\n",
       "      <td>151.4</td>\n",
       "      <td>70.0</td>\n",
       "      <td>31.4</td>\n",
       "      <td>27.2</td>\n",
       "      <td>65.0</td>\n",
       "    </tr>\n",
       "  </tbody>\n",
       "</table>\n",
       "</div>"
      ],
      "text/plain": [
       "                 Jan   Feb    Mar    Apr  May    Jun    Jul    Aug   Sep  \\\n",
       "2016                                                                       \n",
       "Monthly Total  249.8  25.8  193.2  155.0  7.2  305.0  104.6  151.4  70.0   \n",
       "\n",
       "                Oct   Nov   Dec  \n",
       "2016                             \n",
       "Monthly Total  31.4  27.2  65.0  "
      ]
     },
     "execution_count": 24,
     "metadata": {},
     "output_type": "execute_result"
    }
   ],
   "source": [
    "monthly_tot = rainfall_table[rainfall_table.index == 'Monthly Total']\n",
    "monthly_tot_record = monthly_tot[monthly_tot.index == 'Monthly Total']\n",
    "monthly_tot_record"
   ]
  },
  {
   "cell_type": "code",
   "execution_count": 25,
   "metadata": {
    "collapsed": false
   },
   "outputs": [
    {
     "data": {
      "text/plain": [
       "Jan    249.8\n",
       "Feb     25.8\n",
       "Mar    193.2\n",
       "Apr    155.0\n",
       "May      7.2\n",
       "Jun    305.0\n",
       "Jul    104.6\n",
       "Aug    151.4\n",
       "Sep     70.0\n",
       "Oct     31.4\n",
       "Nov     27.2\n",
       "Dec     65.0\n",
       "dtype: float64"
      ]
     },
     "execution_count": 25,
     "metadata": {},
     "output_type": "execute_result"
    }
   ],
   "source": [
    "monthly_tot_record=monthly_tot_record.sum()\n",
    "monthly_tot_record"
   ]
  },
  {
   "cell_type": "code",
   "execution_count": 26,
   "metadata": {
    "collapsed": false
   },
   "outputs": [
    {
     "data": {
      "text/plain": [
       "Jan     249.8\n",
       "Feb     275.6\n",
       "Mar     468.8\n",
       "Apr     623.8\n",
       "May     631.0\n",
       "Jun     936.0\n",
       "Jul    1040.6\n",
       "Aug    1192.0\n",
       "Sep    1262.0\n",
       "Oct    1293.4\n",
       "Nov    1320.6\n",
       "Dec    1385.6\n",
       "dtype: float64"
      ]
     },
     "execution_count": 26,
     "metadata": {},
     "output_type": "execute_result"
    }
   ],
   "source": [
    "monthly_tot_record=monthly_tot_record.cumsum()\n",
    "monthly_tot_record"
   ]
  },
  {
   "cell_type": "code",
   "execution_count": 28,
   "metadata": {
    "collapsed": false
   },
   "outputs": [
    {
     "data": {
      "text/plain": [
       "1385.6000000000001"
      ]
     },
     "execution_count": 28,
     "metadata": {},
     "output_type": "execute_result"
    }
   ],
   "source": [
    "annual_rainfall_2016=monthly_tot_record.max()\n",
    "annual_rainfall_2016"
   ]
  },
  {
   "cell_type": "markdown",
   "metadata": {},
   "source": [
    "# Part 3: Course Project:\n",
    "\n",
    "## Idea1:\n",
    "\n",
    "##### Overview of idea\n",
    "*  To be able to predict the likelihood of me calling in sick on the 16th day given my step count average over\n",
    "the last 15days.\n",
    "\n",
    "##### What data you will use, and how you will collect it\n",
    "*  WHAT: Historical step count from Fitbit over the last 12 months.\n",
    "*  HOW:  I will collect it e=from my fitbit log, \n",
    "either manually or using an import file collected via USB connection between fitbit and my laptop.\n",
    "\n",
    "##### What the outcome is that you are trying to achieve\n",
    "*  An accurate prediction of me getting sick.\n",
    "\n",
    "##### Any ideas of modelling techniques it may involve\n",
    "*  Auto-correlation / Regression Modelling.\n",
    "\n",
    "----------\n",
    "\n",
    "## Idea2:\n",
    "\n",
    "##### Overview of idea\n",
    "* This idea aims to uncover the factors that affect my retail shopping behaviour.\n",
    "\n",
    "##### What data you will use, and how you will collect it\n",
    "* WHAT: One person's seven-year credit card history containing the location, the date/timestamp, product/service\n",
    "    category when the purchase was made and the transaction amount.\n",
    "* HOW:  I will download a CSV import from my online credit card app.\n",
    "\n",
    "##### What the outcome is that you are trying to achieve\n",
    "* Uncover the factors that cause one specific person to spend >30% of her monthly income \n",
    "on retail shopping on a given month.\n",
    "\n",
    "##### Any ideas of modelling techniques it may involve\n",
    "* Auto-correlation, scatter plots.\n",
    "\n",
    "----------\n",
    "\n",
    "## Idea3:\n",
    "\n",
    "##### Overview of idea\n",
    "* Predict property prices in Sydney given the Suburb, dwelling type (unit vs house), # of rooms, # of bathrooms, # of garage, close proximity to : good schools, westfield and train station. \n",
    "\n",
    "##### What data you will use, and how you will collect it\n",
    "* WHAT: Manually collected public Data from Domain.com over the last three months for Western, \n",
    "    Southern, Eastern and Western Sydney.\n",
    "* HOW:  I will collect this data manually.    \n",
    "\n",
    "##### What the outcome is that you are trying to achieve\n",
    "* Predict a fair price range given a property in a specific address.\n",
    "\n",
    "##### Any ideas of modelling techniques it may involve\n",
    "* Regression Modelling, maybe pair plots.\n",
    "\n",
    "----------\n",
    "\n",
    "## Idea4:\n",
    "\n",
    "##### Overview of your idea\n",
    "* Predict the likelihood of someone's super account sitting inactive given their age bracket, inferred \n",
    "salary bracket and the month at which they joined.\n",
    "\n",
    "##### What data you will use, and how you will collect it\n",
    "* WHAT: If allowed, I will use the transactional Superannuation Guaranteed data across 300K account holders over \n",
    "the last 12 months. \n",
    "* HOW:  I will ask permission from the business if I can query this transactional data and use \n",
    "for DAT7 project knowing that it will be displayed publicly.\n",
    "\n",
    "##### What the outcome is that you are trying to achieve\n",
    "* Proactively know when a Super customer is about to leave our business\n",
    "\n",
    "##### Any ideas of modelling techniques it may involve\n",
    "* Regression and auto-correlation\n",
    "\n",
    "----------\n",
    "\n",
    "## Idea5:\n",
    "\n",
    "##### Overview of idea\n",
    "* A model that can predict a call centre staff's probability of quitting or calling in sick on the 30th day \n",
    "given a certain amount of break time that they spend with their friends at work.\n",
    "\n",
    "##### What data you will use, and how you will collect it\n",
    "* WHAT: QA (Quality Assurance) and HR (Human Resources) data of a 70-people call centre collected over the \n",
    "    last three months containing employee records of break start and end time, the name of their identified buddies, \n",
    "    a log of their sick days off and their departure date, if they have left the call centre.\n",
    "* HOW: I will collect it through an associate who runs a call centre in Manila who has access to the:\n",
    "        1. Quality Assurance Data (reflecting employee breaktimes); and\n",
    "        2. Human Resource Data (reflecting sick dates and departure dates of employees).\n",
    "\n",
    "##### What the outcome is that you are trying to achieve\n",
    "* A predictive model to forecast the likelihood of a certain call centre staff quitting or calling in sick 30 days \n",
    "after not having enough time to air their problems out with their work buddies.\n",
    "\n",
    "##### Any ideas of modelling techniques it may involve\n",
    "* Community Detection, Node Centrality, Regression Modelling.\n",
    "\n",
    "----------\n",
    "\n",
    "\n"
   ]
  },
  {
   "cell_type": "markdown",
   "metadata": {
    "collapsed": true
   },
   "source": []
  }
 ],
 "metadata": {
  "anaconda-cloud": {},
  "kernelspec": {
   "display_name": "Python [default]",
   "language": "python",
   "name": "python2"
  },
  "language_info": {
   "codemirror_mode": {
    "name": "ipython",
    "version": 2
   },
   "file_extension": ".py",
   "mimetype": "text/x-python",
   "name": "python",
   "nbconvert_exporter": "python",
   "pygments_lexer": "ipython2",
   "version": "2.7.12"
  }
 },
 "nbformat": 4,
 "nbformat_minor": 0
}
