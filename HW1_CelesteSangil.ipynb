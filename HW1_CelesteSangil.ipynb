{
 "cells": [
  {
   "cell_type": "markdown",
   "metadata": {},
   "source": [
    "# SYD DAT 7 Homework - Git, Markdown and Pandas\n",
    "\n",
    "## Homework: due Feb 20th 2017\n",
    "\n",
    "#### Setup\n",
    "* Create a repository\n",
    "* Copy this Homework1.ipynb file into your new repository\n",
    "\n",
    "#### Communication\n",
    "* Read about some [Markdown Techniques](http://daringfireball.net/projects/markdown/syntax)\n",
    "* Write a summary of a chapter of [The Data Science Handbook](http://www.thedatasciencehandbook.com/) in Markdown\n",
    "\n",
    "#### Programming\n",
    "* Complete the lab from class and the additional Exercise below\n",
    "\n",
    "#### Course Project\n",
    "* Come up with 5 different ideas for your course project. For each one list:\n",
    "  * Overview of your idea\n",
    "  * What data you will use, and how you will collect it\n",
    "  * What the outcome is that you are trying to achieve\n",
    "  * Any ideas of modelling techniques it may involve\n",
    "\n",
    "\n",
    "#### How to submit\n",
    "  * Send a message on Slack to Greg and Amanda to tell us the name of the repository you created and the\n",
    "  filename of the jupyter notebook where you've done your work\n"
   ]
  },
  {
   "cell_type": "markdown",
   "metadata": {},
   "source": [
    "## Weather\n",
    "\n",
    "The Bureau of Meteorology keeps long-term data about rainfall, temperatures and so on. You generate a query,\n",
    "and then you can fetch that same data again for a while before the data is expired.\n",
    "\n",
    "* Go to http://www.bom.gov.au/climate/data\n",
    "* There's a pull down for \"Data about\": choose \"Rainfall\"\n",
    "* Select a weather station: choose Sydney\n",
    "* It will then come up with a list of matching towns: choose Sydney, NSW (the first one in the list)\n",
    "* It will then give a list of the nearest weather stations.\n",
    "* Choose 066062 Sydney Observatory\n",
    "* Select the year 2016\n",
    "* Click on the \"Get Data\" button.\n",
    "* That next page you get will have a URL very similar to this:\n",
    "http://www.bom.gov.au/jsp/ncc/cdio/weatherData/av?p_nccObsCode=136&p_display_type=dailyDataFile&p_startYear=2016&p_c=-872836455&p_stn_num=066062"
   ]
  },
  {
   "cell_type": "code",
   "execution_count": null,
   "metadata": {
    "collapsed": true
   },
   "outputs": [],
   "source": [
    "# Use pandas to read the rainfall table from the web (as described in the previous cell). \n",
    "# Ignore the summary statistics.\n",
    "# Select the 'Monthly Total' row and sum it to get a yearly rainfall\n",
    "# (Optional) Create a function that returns the yearly rainfall for a given year. Plot rainfall over time"
   ]
  },
  {
   "cell_type": "markdown",
   "metadata": {
    "collapsed": true
   },
   "source": [
    "## Part 1: Data Science Handbook Summary\n",
    "\n",
    "* blah\n",
    "* blah\n"
   ]
  },
  {
   "cell_type": "markdown",
   "metadata": {
    "collapsed": true
   },
   "source": [
    "## Part 2: The BOM / Rainfall Exercise\n",
    "\n",
    "* code \n",
    "* code"
   ]
  },
  {
   "cell_type": "markdown",
   "metadata": {},
   "source": [
    "# Part 3: Course Project:\n",
    "\n",
    "## Idea1:\n",
    "\n",
    "##### Overview of idea\n",
    "*  To be able to predict the likelihood of me calling in sick on the 16th day given my step count average over\n",
    "the last 15days.\n",
    "\n",
    "##### What data you will use, and how you will collect it\n",
    "*  WHAT: Historical step count from Fitbit over the last 12 months.\n",
    "*  HOW:  I will collect it e=from my fitbit log, \n",
    "either manually or using an import file collected via USB connection between fitbit and my laptop.\n",
    "\n",
    "##### What the outcome is that you are trying to achieve\n",
    "*  An accurate prediction of me getting sick.\n",
    "\n",
    "##### Any ideas of modelling techniques it may involve\n",
    "*  Auto-correlation / Regression Modelling.\n",
    "\n",
    "----------\n",
    "\n",
    "## Idea2:\n",
    "\n",
    "##### Overview of idea\n",
    "* This idea aims to uncover the factors that affect my retail shopping behaviour.\n",
    "\n",
    "##### What data you will use, and how you will collect it\n",
    "* WHAT: One person's seven-year credit card history containing the location, the date/timestamp, product/service\n",
    "    category when the purchase was made and the transaction amount.\n",
    "* HOW:  I will download a CSV import from my online credit card app.\n",
    "\n",
    "##### What the outcome is that you are trying to achieve\n",
    "* Uncover the factors that cause one specific person to spend >30% of her monthly income \n",
    "on retail shopping on a given month.\n",
    "\n",
    "##### Any ideas of modelling techniques it may involve\n",
    "* Auto-correlation, scatter plots.\n",
    "\n",
    "----------\n",
    "\n",
    "## Idea3:\n",
    "\n",
    "##### Overview of idea\n",
    "* Predict property prices in Sydney given the Suburb, dwelling type (unit vs house), # of rooms, # of bathrooms, # of garage, close proximity to : good schools, westfield and train station. \n",
    "\n",
    "##### What data you will use, and how you will collect it\n",
    "* WHAT: Manually collected public Data from Domain.com over the last three months for Western, \n",
    "    Southern, Eastern and Western Sydney.\n",
    "* HOW:  I will collect this data manually.    \n",
    "\n",
    "##### What the outcome is that you are trying to achieve\n",
    "* Predict a fair price range given a property in a specific address.\n",
    "\n",
    "##### Any ideas of modelling techniques it may involve\n",
    "* Regression Modelling, maybe pair plots.\n",
    "\n",
    "----------\n",
    "\n",
    "## Idea4:\n",
    "\n",
    "##### Overview of your idea\n",
    "* Predict the likelihood of someone's super account sitting inactive given their age bracket, inferred \n",
    "salary bracket and the month at which they joined.\n",
    "\n",
    "##### What data you will use, and how you will collect it\n",
    "* WHAT: If allowed, I will use the transactional Superannuation Guaranteed data across 300K account holders over \n",
    "the last 12 months. \n",
    "* HOW:  I will ask permission from the business if I can query this transactional data and use \n",
    "for DAT7 project knowing that it will be displayed publicly.\n",
    "\n",
    "##### What the outcome is that you are trying to achieve\n",
    "* Proactively know when a Super customer is about to leave our business\n",
    "\n",
    "##### Any ideas of modelling techniques it may involve\n",
    "* Regression and auto-correlation\n",
    "\n",
    "----------\n",
    "\n",
    "## Idea5:\n",
    "\n",
    "##### Overview of idea\n",
    "* A model that can predict a call centre staff's probability of quitting or calling in sick on the 30th day \n",
    "given a certain amount of break time that they spend with their friends at work.\n",
    "\n",
    "##### What data you will use, and how you will collect it\n",
    "* WHAT: QA (Quality Assurance) and HR (Human Resources) data of a 70-people call centre collected over the \n",
    "    last three months containing employee records of break start and end time, the name of their identified buddies, \n",
    "    a log of their sick days off and their departure date, if they have left the call centre.\n",
    "* HOW: I will collect it through an associate who runs a call centre in Manila who has access to the:\n",
    "        1. Quality Assurance Data (reflecting employee breaktimes); and\n",
    "        2. Human Resource Data (reflecting sick dates and departure dates of employees).\n",
    "\n",
    "##### What the outcome is that you are trying to achieve\n",
    "* A predictive model to forecast the likelihood of a certain call centre staff quitting or calling in sick 30 days \n",
    "after not having enough time to air their problems out with their work buddies.\n",
    "\n",
    "##### Any ideas of modelling techniques it may involve\n",
    "* Community Detection, Node Centrality, Regression Modelling.\n",
    "\n",
    "----------\n",
    "\n",
    "\n"
   ]
  },
  {
   "cell_type": "markdown",
   "metadata": {
    "collapsed": true
   },
   "source": []
  }
 ],
 "metadata": {
  "anaconda-cloud": {},
  "kernelspec": {
   "display_name": "Python [default]",
   "language": "python",
   "name": "python2"
  },
  "language_info": {
   "codemirror_mode": {
    "name": "ipython",
    "version": 2
   },
   "file_extension": ".py",
   "mimetype": "text/x-python",
   "name": "python",
   "nbconvert_exporter": "python",
   "pygments_lexer": "ipython2",
   "version": "2.7.12"
  }
 },
 "nbformat": 4,
 "nbformat_minor": 0
}
